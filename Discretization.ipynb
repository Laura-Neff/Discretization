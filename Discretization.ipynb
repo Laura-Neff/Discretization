{
  "nbformat": 4,
  "nbformat_minor": 0,
  "metadata": {
    "colab": {
      "name": "Discretization.ipynb",
      "provenance": [],
      "collapsed_sections": [],
      "authorship_tag": "ABX9TyNNoCYLzWmViAoZYM+D9tSm",
      "include_colab_link": true
    },
    "kernelspec": {
      "name": "python3",
      "display_name": "Python 3"
    },
    "language_info": {
      "name": "python"
    }
  },
  "cells": [
    {
      "cell_type": "markdown",
      "metadata": {
        "id": "view-in-github",
        "colab_type": "text"
      },
      "source": [
        "<a href=\"https://colab.research.google.com/github/Laura-Neff/Discretization/blob/main/Discretization.ipynb\" target=\"_parent\"><img src=\"https://colab.research.google.com/assets/colab-badge.svg\" alt=\"Open In Colab\"/></a>"
      ]
    },
    {
      "cell_type": "code",
      "execution_count": 46,
      "metadata": {
        "id": "SwGqCb0_6D5J"
      },
      "outputs": [],
      "source": [
        "import pandas as pd\n",
        "import numpy as np\n",
        "\n",
        "#Discretization is often performed to simplify data you are working with"
      ]
    },
    {
      "cell_type": "code",
      "source": [
        "X = np.array([-7, 2, -3, -11, 14, 6, 8])"
      ],
      "metadata": {
        "id": "VSdSD7Ab60iZ"
      },
      "execution_count": 47,
      "outputs": []
    },
    {
      "cell_type": "code",
      "source": [
        "categories = pd.cut(X, 4)\n",
        "\n",
        "categories\n",
        "\n",
        "#Categorize data and use cut function to bucketize and bend your data\n",
        "#cut function examines numeric continuous values and generates the number of intervals you tell it to\n",
        "#each interval represents a bucket/category "
      ],
      "metadata": {
        "colab": {
          "base_uri": "https://localhost:8080/"
        },
        "id": "-OfjHgxF639T",
        "outputId": "845cd37e-7f44-443d-ee91-7f0bca2d1a4e"
      },
      "execution_count": 48,
      "outputs": [
        {
          "output_type": "execute_result",
          "data": {
            "text/plain": [
              "[(-11.025, -4.75], (1.5, 7.75], (-4.75, 1.5], (-11.025, -4.75], (7.75, 14.0], (1.5, 7.75], (7.75, 14.0]]\n",
              "Categories (4, interval[float64, right]): [(-11.025, -4.75] < (-4.75, 1.5] < (1.5, 7.75] < (7.75, 14.0]]"
            ]
          },
          "metadata": {},
          "execution_count": 48
        }
      ]
    },
    {
      "cell_type": "code",
      "source": [
        "categories.categories\n",
        "#The interval is like this: number next to \"(\" is not included, but number next to \"]\" is included\n",
        "#Right is always included and left isn't"
      ],
      "metadata": {
        "colab": {
          "base_uri": "https://localhost:8080/"
        },
        "id": "CausG9O_8O5k",
        "outputId": "371ca66b-9c6e-4d47-c402-cf494ccefed5"
      },
      "execution_count": 49,
      "outputs": [
        {
          "output_type": "execute_result",
          "data": {
            "text/plain": [
              "IntervalIndex([(-11.025, -4.75], (-4.75, 1.5], (1.5, 7.75], (7.75, 14.0]], dtype='interval[float64, right]')"
            ]
          },
          "metadata": {},
          "execution_count": 49
        }
      ]
    },
    {
      "cell_type": "code",
      "source": [
        "categories.codes\n",
        "#here we have numeric identifiers for each bucket\n",
        "#we can see the first number in our array belongs to the first bucket and the last number in our array belongs to our last bucket"
      ],
      "metadata": {
        "colab": {
          "base_uri": "https://localhost:8080/"
        },
        "id": "QWtuR0_C8odA",
        "outputId": "082fdc83-cf80-43af-ef08-303ec833526f"
      },
      "execution_count": 50,
      "outputs": [
        {
          "output_type": "execute_result",
          "data": {
            "text/plain": [
              "array([0, 2, 1, 0, 3, 2, 3], dtype=int8)"
            ]
          },
          "metadata": {},
          "execution_count": 50
        }
      ]
    },
    {
      "cell_type": "code",
      "source": [
        "categories.ordered\n",
        "#There is an inherent ordering to our categories"
      ],
      "metadata": {
        "colab": {
          "base_uri": "https://localhost:8080/"
        },
        "id": "Nt-t2PrF8qkL",
        "outputId": "1d28e8cd-e0c6-4769-bafc-04d5cdcd6869"
      },
      "execution_count": 51,
      "outputs": [
        {
          "output_type": "execute_result",
          "data": {
            "text/plain": [
              "True"
            ]
          },
          "metadata": {},
          "execution_count": 51
        }
      ]
    },
    {
      "cell_type": "code",
      "source": [
        "pd.cut(X, 4, retbins=True)\n",
        "#returns bin information and tells you where edges are "
      ],
      "metadata": {
        "colab": {
          "base_uri": "https://localhost:8080/"
        },
        "id": "pz0BNnLK8sV3",
        "outputId": "5617c569-991b-4756-d99e-1464e6facdbb"
      },
      "execution_count": 52,
      "outputs": [
        {
          "output_type": "execute_result",
          "data": {
            "text/plain": [
              "([(-11.025, -4.75], (1.5, 7.75], (-4.75, 1.5], (-11.025, -4.75], (7.75, 14.0], (1.5, 7.75], (7.75, 14.0]]\n",
              " Categories (4, interval[float64, right]): [(-11.025, -4.75] < (-4.75, 1.5] < (1.5, 7.75] < (7.75, 14.0]],\n",
              " array([-11.025,  -4.75 ,   1.5  ,   7.75 ,  14.   ]))"
            ]
          },
          "metadata": {},
          "execution_count": 52
        }
      ]
    },
    {
      "cell_type": "code",
      "source": [
        "marks = np.array([70, 20, 30, 99, 40, 16, 80])"
      ],
      "metadata": {
        "id": "RrK8Dmhu8uLJ"
      },
      "execution_count": 53,
      "outputs": []
    },
    {
      "cell_type": "code",
      "source": [
        "categories, bins = pd.cut(marks, 4, retbins=True, labels=['poor', 'average', 'good', 'excellent'])\n",
        "#categorize the four bins we have and assign labels to them "
      ],
      "metadata": {
        "id": "xY8nlkMH8yKt"
      },
      "execution_count": 54,
      "outputs": []
    },
    {
      "cell_type": "code",
      "source": [
        "categories"
      ],
      "metadata": {
        "colab": {
          "base_uri": "https://localhost:8080/"
        },
        "id": "Pq-mChM58y5f",
        "outputId": "2832a046-69a7-4ad6-83bd-81df4e04d659"
      },
      "execution_count": 55,
      "outputs": [
        {
          "output_type": "execute_result",
          "data": {
            "text/plain": [
              "['good', 'poor', 'poor', 'excellent', 'average', 'poor', 'excellent']\n",
              "Categories (4, object): ['poor' < 'average' < 'good' < 'excellent']"
            ]
          },
          "metadata": {},
          "execution_count": 55
        }
      ]
    },
    {
      "cell_type": "code",
      "source": [
        "categories.categories\n",
        "#You can get meaningful categories for your continuous numerical data by using labels with pandas.cut"
      ],
      "metadata": {
        "colab": {
          "base_uri": "https://localhost:8080/"
        },
        "id": "C_F-7ZR_8073",
        "outputId": "b674d429-a6e0-4571-94cd-179d24def559"
      },
      "execution_count": 56,
      "outputs": [
        {
          "output_type": "execute_result",
          "data": {
            "text/plain": [
              "Index(['poor', 'average', 'good', 'excellent'], dtype='object')"
            ]
          },
          "metadata": {},
          "execution_count": 56
        }
      ]
    },
    {
      "cell_type": "code",
      "source": [
        "bins"
      ],
      "metadata": {
        "colab": {
          "base_uri": "https://localhost:8080/"
        },
        "id": "SM6nMDha84B2",
        "outputId": "02ee8dc3-ae15-4517-f3af-30b348ad4010"
      },
      "execution_count": 57,
      "outputs": [
        {
          "output_type": "execute_result",
          "data": {
            "text/plain": [
              "array([15.917, 36.75 , 57.5  , 78.25 , 99.   ])"
            ]
          },
          "metadata": {},
          "execution_count": 57
        }
      ]
    },
    {
      "cell_type": "code",
      "source": [
        "df = pd.Series(marks, index = [1, 2, 3, 4, 5, 6, 7])\n",
        "\n",
        "df"
      ],
      "metadata": {
        "colab": {
          "base_uri": "https://localhost:8080/"
        },
        "id": "ofh9z9_eBqyC",
        "outputId": "b2a8452a-2a69-4710-af12-045c7a0d5f1b"
      },
      "execution_count": 58,
      "outputs": [
        {
          "output_type": "execute_result",
          "data": {
            "text/plain": [
              "1    70\n",
              "2    20\n",
              "3    30\n",
              "4    99\n",
              "5    40\n",
              "6    16\n",
              "7    80\n",
              "dtype: int64"
            ]
          },
          "metadata": {},
          "execution_count": 58
        }
      ]
    },
    {
      "cell_type": "code",
      "source": [
        "categories, bins = pd.cut(df, 4, retbins=True)"
      ],
      "metadata": {
        "id": "aBWUhEcbBxTj"
      },
      "execution_count": 59,
      "outputs": []
    },
    {
      "cell_type": "code",
      "source": [
        "bins"
      ],
      "metadata": {
        "colab": {
          "base_uri": "https://localhost:8080/"
        },
        "id": "7tm-JFDtBy-w",
        "outputId": "49013d67-4c4a-43d7-c79e-475ef0c4ef19"
      },
      "execution_count": 60,
      "outputs": [
        {
          "output_type": "execute_result",
          "data": {
            "text/plain": [
              "array([15.917, 36.75 , 57.5  , 78.25 , 99.   ])"
            ]
          },
          "metadata": {},
          "execution_count": 60
        }
      ]
    },
    {
      "cell_type": "code",
      "source": [
        "from sklearn.preprocessing import KBinsDiscretizer #estimator object that discretizes continuous data"
      ],
      "metadata": {
        "id": "Ho6_MKuvB00U"
      },
      "execution_count": 61,
      "outputs": []
    },
    {
      "cell_type": "code",
      "source": [
        "marks = [[70], [20], [30], [99], [40], [16], [80]] #Use same marks data but represent it as 2D list"
      ],
      "metadata": {
        "id": "0MO0f0UJB8nL"
      },
      "execution_count": 62,
      "outputs": []
    },
    {
      "cell_type": "code",
      "source": [
        "enc = KBinsDiscretizer(n_bins=4, encode='ordinal', strategy='uniform') #bin marks into 4 categories; encode bin identifiers as integer values, so encode = \"ordinal\"\n",
        "#can also set that to one-hot encoding\n",
        "#strategy here is uniform, which means all bins for each feature will have identical widths "
      ],
      "metadata": {
        "id": "FSZmvO5VB-0c"
      },
      "execution_count": 63,
      "outputs": []
    },
    {
      "cell_type": "code",
      "source": [
        "enc.fit(marks) #encode marks data "
      ],
      "metadata": {
        "colab": {
          "base_uri": "https://localhost:8080/"
        },
        "id": "xF4ApcGACBDA",
        "outputId": "1a02d606-77dd-4b31-db25-57c672c057f7"
      },
      "execution_count": 64,
      "outputs": [
        {
          "output_type": "execute_result",
          "data": {
            "text/plain": [
              "KBinsDiscretizer(encode='ordinal', n_bins=4, strategy='uniform')"
            ]
          },
          "metadata": {},
          "execution_count": 64
        }
      ]
    },
    {
      "cell_type": "code",
      "source": [
        "enc.transform(marks) #get discretized or categorical values"
      ],
      "metadata": {
        "colab": {
          "base_uri": "https://localhost:8080/"
        },
        "id": "HVIQccrxCCeX",
        "outputId": "72448059-4053-4354-88f0-309458be69ff"
      },
      "execution_count": 65,
      "outputs": [
        {
          "output_type": "execute_result",
          "data": {
            "text/plain": [
              "array([[2.],\n",
              "       [0.],\n",
              "       [0.],\n",
              "       [3.],\n",
              "       [1.],\n",
              "       [0.],\n",
              "       [3.]])"
            ]
          },
          "metadata": {},
          "execution_count": 65
        }
      ]
    },
    {
      "cell_type": "code",
      "source": [
        "enc.bin_edges_ #see edges of each bin"
      ],
      "metadata": {
        "colab": {
          "base_uri": "https://localhost:8080/"
        },
        "id": "oGsqlKYEDdI6",
        "outputId": "fac9741f-aeb7-4052-9a16-c734e38238b2"
      },
      "execution_count": 66,
      "outputs": [
        {
          "output_type": "execute_result",
          "data": {
            "text/plain": [
              "array([array([16.  , 36.75, 57.5 , 78.25, 99.  ])], dtype=object)"
            ]
          },
          "metadata": {},
          "execution_count": 66
        }
      ]
    },
    {
      "cell_type": "code",
      "source": [
        "X = [[-21, 41, -14],\n",
        "     [-13, 23, -31],\n",
        "     [  9, 30, -5],\n",
        "     [  0, 24, -17]]"
      ],
      "metadata": {
        "id": "IVdKZXGXDiTX"
      },
      "execution_count": 67,
      "outputs": []
    },
    {
      "cell_type": "code",
      "source": [
        "enc = KBinsDiscretizer(n_bins=4, encode='ordinal', strategy='quantile')\n",
        "#discretize all 3 features/columns into 4 separate bins\n",
        "#quantile = all bins in each feature will have the same number of points\n",
        "#the bin intervals will be different to accomodate the same number of points in each feature "
      ],
      "metadata": {
        "id": "UaEcX2MED1Lu"
      },
      "execution_count": 68,
      "outputs": []
    },
    {
      "cell_type": "code",
      "source": [
        "enc.fit(X)"
      ],
      "metadata": {
        "colab": {
          "base_uri": "https://localhost:8080/"
        },
        "id": "mKAPMsA-D3kJ",
        "outputId": "fe42dc15-58f1-458b-a519-eda943d11744"
      },
      "execution_count": 69,
      "outputs": [
        {
          "output_type": "execute_result",
          "data": {
            "text/plain": [
              "KBinsDiscretizer(encode='ordinal', n_bins=4)"
            ]
          },
          "metadata": {},
          "execution_count": 69
        }
      ]
    },
    {
      "cell_type": "code",
      "source": [
        "X_trans = enc.transform(X)\n",
        "\n",
        "X_trans\n",
        "\n",
        "#Buckets are different for each feature\n",
        "#We have 4 bins and 4 records\n",
        "#for each feature, there is exactly 1 data point in each bin"
      ],
      "metadata": {
        "colab": {
          "base_uri": "https://localhost:8080/"
        },
        "id": "q4XVV2F-D5Xm",
        "outputId": "397643e0-6e13-4cee-eea0-3304b4458554"
      },
      "execution_count": 70,
      "outputs": [
        {
          "output_type": "execute_result",
          "data": {
            "text/plain": [
              "array([[0., 3., 2.],\n",
              "       [1., 0., 0.],\n",
              "       [3., 2., 3.],\n",
              "       [2., 1., 1.]])"
            ]
          },
          "metadata": {},
          "execution_count": 70
        }
      ]
    },
    {
      "cell_type": "code",
      "source": [
        "enc.bin_edges_\n",
        "#the bin intervals change to accomodate exactly the same number of data points for each feature "
      ],
      "metadata": {
        "colab": {
          "base_uri": "https://localhost:8080/"
        },
        "id": "xrnauCn-D7mk",
        "outputId": "a9fb5fe0-a958-4799-8cf5-e758c980e5e2"
      },
      "execution_count": 71,
      "outputs": [
        {
          "output_type": "execute_result",
          "data": {
            "text/plain": [
              "array([array([-21.  , -15.  ,  -6.5 ,   2.25,   9.  ]),\n",
              "       array([23.  , 23.75, 27.  , 32.75, 41.  ]),\n",
              "       array([-31.  , -20.5 , -15.5 , -11.75,  -5.  ])], dtype=object)"
            ]
          },
          "metadata": {},
          "execution_count": 71
        }
      ]
    },
    {
      "cell_type": "code",
      "source": [
        "enc.inverse_transform(X_trans)\n",
        "#The inverse_transform function converts the binned data into the original feature space. Each value will be equal to the mean of the two bin edges."
      ],
      "metadata": {
        "colab": {
          "base_uri": "https://localhost:8080/"
        },
        "id": "-CjXuytfWpr7",
        "outputId": "4d3cf97d-38df-4645-a28f-69cad21b8139"
      },
      "execution_count": 72,
      "outputs": [
        {
          "output_type": "execute_result",
          "data": {
            "text/plain": [
              "array([[-18.   ,  36.875, -13.625],\n",
              "       [-10.75 ,  23.375, -25.75 ],\n",
              "       [  5.625,  29.875,  -8.375],\n",
              "       [ -2.125,  25.375, -18.   ]])"
            ]
          },
          "metadata": {},
          "execution_count": 72
        }
      ]
    },
    {
      "cell_type": "markdown",
      "source": [
        "Now we will build a regression model with original data and with discretized data"
      ],
      "metadata": {
        "id": "_qb8x_kzZvmF"
      }
    },
    {
      "cell_type": "code",
      "source": [
        "automobile_df = pd.read_csv('auto_mpg_processed.csv')\n",
        "\n",
        "automobile_df.head(10)"
      ],
      "metadata": {
        "colab": {
          "base_uri": "https://localhost:8080/",
          "height": 363
        },
        "id": "bw-kf30pZqYo",
        "outputId": "768ba959-830e-49c8-d391-8c5e05096b00"
      },
      "execution_count": 73,
      "outputs": [
        {
          "output_type": "execute_result",
          "data": {
            "text/plain": [
              "         MPG  Cylinders  Displacement  Horsepower  Weight  Acceleration  \\\n",
              "0  18.000000          8         307.0         130    3504         307.0   \n",
              "1  16.000000          8         304.0         150    3433         304.0   \n",
              "2  17.000000          8         302.0         140    3449         302.0   \n",
              "3  14.000000          8         454.0         220    4354         454.0   \n",
              "4  23.551429          8         440.0         215    4312         440.0   \n",
              "5  14.000000          8         455.0         225    4425         455.0   \n",
              "6  15.000000          8         390.0         190    3850         390.0   \n",
              "7  15.000000          8         383.0         170    3563         383.0   \n",
              "8  14.000000          5         340.0         160    3609         340.0   \n",
              "9  23.551429          8         400.0         150    3761         400.0   \n",
              "\n",
              "  Origin  age  \n",
              "0     US   49  \n",
              "1     US   49  \n",
              "2     US   49  \n",
              "3     US   49  \n",
              "4     US   49  \n",
              "5     US   49  \n",
              "6     US   49  \n",
              "7     US   49  \n",
              "8     US   49  \n",
              "9     US   49  "
            ],
            "text/html": [
              "\n",
              "  <div id=\"df-3b6a123d-bb8c-4f2f-ae9d-06093e78b803\">\n",
              "    <div class=\"colab-df-container\">\n",
              "      <div>\n",
              "<style scoped>\n",
              "    .dataframe tbody tr th:only-of-type {\n",
              "        vertical-align: middle;\n",
              "    }\n",
              "\n",
              "    .dataframe tbody tr th {\n",
              "        vertical-align: top;\n",
              "    }\n",
              "\n",
              "    .dataframe thead th {\n",
              "        text-align: right;\n",
              "    }\n",
              "</style>\n",
              "<table border=\"1\" class=\"dataframe\">\n",
              "  <thead>\n",
              "    <tr style=\"text-align: right;\">\n",
              "      <th></th>\n",
              "      <th>MPG</th>\n",
              "      <th>Cylinders</th>\n",
              "      <th>Displacement</th>\n",
              "      <th>Horsepower</th>\n",
              "      <th>Weight</th>\n",
              "      <th>Acceleration</th>\n",
              "      <th>Origin</th>\n",
              "      <th>age</th>\n",
              "    </tr>\n",
              "  </thead>\n",
              "  <tbody>\n",
              "    <tr>\n",
              "      <th>0</th>\n",
              "      <td>18.000000</td>\n",
              "      <td>8</td>\n",
              "      <td>307.0</td>\n",
              "      <td>130</td>\n",
              "      <td>3504</td>\n",
              "      <td>307.0</td>\n",
              "      <td>US</td>\n",
              "      <td>49</td>\n",
              "    </tr>\n",
              "    <tr>\n",
              "      <th>1</th>\n",
              "      <td>16.000000</td>\n",
              "      <td>8</td>\n",
              "      <td>304.0</td>\n",
              "      <td>150</td>\n",
              "      <td>3433</td>\n",
              "      <td>304.0</td>\n",
              "      <td>US</td>\n",
              "      <td>49</td>\n",
              "    </tr>\n",
              "    <tr>\n",
              "      <th>2</th>\n",
              "      <td>17.000000</td>\n",
              "      <td>8</td>\n",
              "      <td>302.0</td>\n",
              "      <td>140</td>\n",
              "      <td>3449</td>\n",
              "      <td>302.0</td>\n",
              "      <td>US</td>\n",
              "      <td>49</td>\n",
              "    </tr>\n",
              "    <tr>\n",
              "      <th>3</th>\n",
              "      <td>14.000000</td>\n",
              "      <td>8</td>\n",
              "      <td>454.0</td>\n",
              "      <td>220</td>\n",
              "      <td>4354</td>\n",
              "      <td>454.0</td>\n",
              "      <td>US</td>\n",
              "      <td>49</td>\n",
              "    </tr>\n",
              "    <tr>\n",
              "      <th>4</th>\n",
              "      <td>23.551429</td>\n",
              "      <td>8</td>\n",
              "      <td>440.0</td>\n",
              "      <td>215</td>\n",
              "      <td>4312</td>\n",
              "      <td>440.0</td>\n",
              "      <td>US</td>\n",
              "      <td>49</td>\n",
              "    </tr>\n",
              "    <tr>\n",
              "      <th>5</th>\n",
              "      <td>14.000000</td>\n",
              "      <td>8</td>\n",
              "      <td>455.0</td>\n",
              "      <td>225</td>\n",
              "      <td>4425</td>\n",
              "      <td>455.0</td>\n",
              "      <td>US</td>\n",
              "      <td>49</td>\n",
              "    </tr>\n",
              "    <tr>\n",
              "      <th>6</th>\n",
              "      <td>15.000000</td>\n",
              "      <td>8</td>\n",
              "      <td>390.0</td>\n",
              "      <td>190</td>\n",
              "      <td>3850</td>\n",
              "      <td>390.0</td>\n",
              "      <td>US</td>\n",
              "      <td>49</td>\n",
              "    </tr>\n",
              "    <tr>\n",
              "      <th>7</th>\n",
              "      <td>15.000000</td>\n",
              "      <td>8</td>\n",
              "      <td>383.0</td>\n",
              "      <td>170</td>\n",
              "      <td>3563</td>\n",
              "      <td>383.0</td>\n",
              "      <td>US</td>\n",
              "      <td>49</td>\n",
              "    </tr>\n",
              "    <tr>\n",
              "      <th>8</th>\n",
              "      <td>14.000000</td>\n",
              "      <td>5</td>\n",
              "      <td>340.0</td>\n",
              "      <td>160</td>\n",
              "      <td>3609</td>\n",
              "      <td>340.0</td>\n",
              "      <td>US</td>\n",
              "      <td>49</td>\n",
              "    </tr>\n",
              "    <tr>\n",
              "      <th>9</th>\n",
              "      <td>23.551429</td>\n",
              "      <td>8</td>\n",
              "      <td>400.0</td>\n",
              "      <td>150</td>\n",
              "      <td>3761</td>\n",
              "      <td>400.0</td>\n",
              "      <td>US</td>\n",
              "      <td>49</td>\n",
              "    </tr>\n",
              "  </tbody>\n",
              "</table>\n",
              "</div>\n",
              "      <button class=\"colab-df-convert\" onclick=\"convertToInteractive('df-3b6a123d-bb8c-4f2f-ae9d-06093e78b803')\"\n",
              "              title=\"Convert this dataframe to an interactive table.\"\n",
              "              style=\"display:none;\">\n",
              "        \n",
              "  <svg xmlns=\"http://www.w3.org/2000/svg\" height=\"24px\"viewBox=\"0 0 24 24\"\n",
              "       width=\"24px\">\n",
              "    <path d=\"M0 0h24v24H0V0z\" fill=\"none\"/>\n",
              "    <path d=\"M18.56 5.44l.94 2.06.94-2.06 2.06-.94-2.06-.94-.94-2.06-.94 2.06-2.06.94zm-11 1L8.5 8.5l.94-2.06 2.06-.94-2.06-.94L8.5 2.5l-.94 2.06-2.06.94zm10 10l.94 2.06.94-2.06 2.06-.94-2.06-.94-.94-2.06-.94 2.06-2.06.94z\"/><path d=\"M17.41 7.96l-1.37-1.37c-.4-.4-.92-.59-1.43-.59-.52 0-1.04.2-1.43.59L10.3 9.45l-7.72 7.72c-.78.78-.78 2.05 0 2.83L4 21.41c.39.39.9.59 1.41.59.51 0 1.02-.2 1.41-.59l7.78-7.78 2.81-2.81c.8-.78.8-2.07 0-2.86zM5.41 20L4 18.59l7.72-7.72 1.47 1.35L5.41 20z\"/>\n",
              "  </svg>\n",
              "      </button>\n",
              "      \n",
              "  <style>\n",
              "    .colab-df-container {\n",
              "      display:flex;\n",
              "      flex-wrap:wrap;\n",
              "      gap: 12px;\n",
              "    }\n",
              "\n",
              "    .colab-df-convert {\n",
              "      background-color: #E8F0FE;\n",
              "      border: none;\n",
              "      border-radius: 50%;\n",
              "      cursor: pointer;\n",
              "      display: none;\n",
              "      fill: #1967D2;\n",
              "      height: 32px;\n",
              "      padding: 0 0 0 0;\n",
              "      width: 32px;\n",
              "    }\n",
              "\n",
              "    .colab-df-convert:hover {\n",
              "      background-color: #E2EBFA;\n",
              "      box-shadow: 0px 1px 2px rgba(60, 64, 67, 0.3), 0px 1px 3px 1px rgba(60, 64, 67, 0.15);\n",
              "      fill: #174EA6;\n",
              "    }\n",
              "\n",
              "    [theme=dark] .colab-df-convert {\n",
              "      background-color: #3B4455;\n",
              "      fill: #D2E3FC;\n",
              "    }\n",
              "\n",
              "    [theme=dark] .colab-df-convert:hover {\n",
              "      background-color: #434B5C;\n",
              "      box-shadow: 0px 1px 3px 1px rgba(0, 0, 0, 0.15);\n",
              "      filter: drop-shadow(0px 1px 2px rgba(0, 0, 0, 0.3));\n",
              "      fill: #FFFFFF;\n",
              "    }\n",
              "  </style>\n",
              "\n",
              "      <script>\n",
              "        const buttonEl =\n",
              "          document.querySelector('#df-3b6a123d-bb8c-4f2f-ae9d-06093e78b803 button.colab-df-convert');\n",
              "        buttonEl.style.display =\n",
              "          google.colab.kernel.accessAllowed ? 'block' : 'none';\n",
              "\n",
              "        async function convertToInteractive(key) {\n",
              "          const element = document.querySelector('#df-3b6a123d-bb8c-4f2f-ae9d-06093e78b803');\n",
              "          const dataTable =\n",
              "            await google.colab.kernel.invokeFunction('convertToInteractive',\n",
              "                                                     [key], {});\n",
              "          if (!dataTable) return;\n",
              "\n",
              "          const docLinkHtml = 'Like what you see? Visit the ' +\n",
              "            '<a target=\"_blank\" href=https://colab.research.google.com/notebooks/data_table.ipynb>data table notebook</a>'\n",
              "            + ' to learn more about interactive tables.';\n",
              "          element.innerHTML = '';\n",
              "          dataTable['output_type'] = 'display_data';\n",
              "          await google.colab.output.renderOutput(dataTable, element);\n",
              "          const docLink = document.createElement('div');\n",
              "          docLink.innerHTML = docLinkHtml;\n",
              "          element.appendChild(docLink);\n",
              "        }\n",
              "      </script>\n",
              "    </div>\n",
              "  </div>\n",
              "  "
            ]
          },
          "metadata": {},
          "execution_count": 73
        }
      ]
    },
    {
      "cell_type": "markdown",
      "source": [
        "Here we are taking horsepower column as feature and the predicting the mpg value"
      ],
      "metadata": {
        "id": "g53ViM7mZ9WW"
      }
    },
    {
      "cell_type": "code",
      "source": [
        "X = automobile_df[['Horsepower']]\n",
        "Y = automobile_df['MPG']"
      ],
      "metadata": {
        "id": "WsYtB-YcZ3tp"
      },
      "execution_count": 74,
      "outputs": []
    },
    {
      "cell_type": "code",
      "source": [
        "X.sample(10)"
      ],
      "metadata": {
        "colab": {
          "base_uri": "https://localhost:8080/",
          "height": 363
        },
        "id": "o9hyGHWeaGww",
        "outputId": "d5f4f684-f612-4185-9e76-355dd4617378"
      },
      "execution_count": 75,
      "outputs": [
        {
          "output_type": "execute_result",
          "data": {
            "text/plain": [
              "     Horsepower\n",
              "141          93\n",
              "177          83\n",
              "331          84\n",
              "236          66\n",
              "206         150\n",
              "92          100\n",
              "191          78\n",
              "62          150\n",
              "279         135\n",
              "377          92"
            ],
            "text/html": [
              "\n",
              "  <div id=\"df-78f8c823-aee7-4e05-ad86-b7790e7d7978\">\n",
              "    <div class=\"colab-df-container\">\n",
              "      <div>\n",
              "<style scoped>\n",
              "    .dataframe tbody tr th:only-of-type {\n",
              "        vertical-align: middle;\n",
              "    }\n",
              "\n",
              "    .dataframe tbody tr th {\n",
              "        vertical-align: top;\n",
              "    }\n",
              "\n",
              "    .dataframe thead th {\n",
              "        text-align: right;\n",
              "    }\n",
              "</style>\n",
              "<table border=\"1\" class=\"dataframe\">\n",
              "  <thead>\n",
              "    <tr style=\"text-align: right;\">\n",
              "      <th></th>\n",
              "      <th>Horsepower</th>\n",
              "    </tr>\n",
              "  </thead>\n",
              "  <tbody>\n",
              "    <tr>\n",
              "      <th>141</th>\n",
              "      <td>93</td>\n",
              "    </tr>\n",
              "    <tr>\n",
              "      <th>177</th>\n",
              "      <td>83</td>\n",
              "    </tr>\n",
              "    <tr>\n",
              "      <th>331</th>\n",
              "      <td>84</td>\n",
              "    </tr>\n",
              "    <tr>\n",
              "      <th>236</th>\n",
              "      <td>66</td>\n",
              "    </tr>\n",
              "    <tr>\n",
              "      <th>206</th>\n",
              "      <td>150</td>\n",
              "    </tr>\n",
              "    <tr>\n",
              "      <th>92</th>\n",
              "      <td>100</td>\n",
              "    </tr>\n",
              "    <tr>\n",
              "      <th>191</th>\n",
              "      <td>78</td>\n",
              "    </tr>\n",
              "    <tr>\n",
              "      <th>62</th>\n",
              "      <td>150</td>\n",
              "    </tr>\n",
              "    <tr>\n",
              "      <th>279</th>\n",
              "      <td>135</td>\n",
              "    </tr>\n",
              "    <tr>\n",
              "      <th>377</th>\n",
              "      <td>92</td>\n",
              "    </tr>\n",
              "  </tbody>\n",
              "</table>\n",
              "</div>\n",
              "      <button class=\"colab-df-convert\" onclick=\"convertToInteractive('df-78f8c823-aee7-4e05-ad86-b7790e7d7978')\"\n",
              "              title=\"Convert this dataframe to an interactive table.\"\n",
              "              style=\"display:none;\">\n",
              "        \n",
              "  <svg xmlns=\"http://www.w3.org/2000/svg\" height=\"24px\"viewBox=\"0 0 24 24\"\n",
              "       width=\"24px\">\n",
              "    <path d=\"M0 0h24v24H0V0z\" fill=\"none\"/>\n",
              "    <path d=\"M18.56 5.44l.94 2.06.94-2.06 2.06-.94-2.06-.94-.94-2.06-.94 2.06-2.06.94zm-11 1L8.5 8.5l.94-2.06 2.06-.94-2.06-.94L8.5 2.5l-.94 2.06-2.06.94zm10 10l.94 2.06.94-2.06 2.06-.94-2.06-.94-.94-2.06-.94 2.06-2.06.94z\"/><path d=\"M17.41 7.96l-1.37-1.37c-.4-.4-.92-.59-1.43-.59-.52 0-1.04.2-1.43.59L10.3 9.45l-7.72 7.72c-.78.78-.78 2.05 0 2.83L4 21.41c.39.39.9.59 1.41.59.51 0 1.02-.2 1.41-.59l7.78-7.78 2.81-2.81c.8-.78.8-2.07 0-2.86zM5.41 20L4 18.59l7.72-7.72 1.47 1.35L5.41 20z\"/>\n",
              "  </svg>\n",
              "      </button>\n",
              "      \n",
              "  <style>\n",
              "    .colab-df-container {\n",
              "      display:flex;\n",
              "      flex-wrap:wrap;\n",
              "      gap: 12px;\n",
              "    }\n",
              "\n",
              "    .colab-df-convert {\n",
              "      background-color: #E8F0FE;\n",
              "      border: none;\n",
              "      border-radius: 50%;\n",
              "      cursor: pointer;\n",
              "      display: none;\n",
              "      fill: #1967D2;\n",
              "      height: 32px;\n",
              "      padding: 0 0 0 0;\n",
              "      width: 32px;\n",
              "    }\n",
              "\n",
              "    .colab-df-convert:hover {\n",
              "      background-color: #E2EBFA;\n",
              "      box-shadow: 0px 1px 2px rgba(60, 64, 67, 0.3), 0px 1px 3px 1px rgba(60, 64, 67, 0.15);\n",
              "      fill: #174EA6;\n",
              "    }\n",
              "\n",
              "    [theme=dark] .colab-df-convert {\n",
              "      background-color: #3B4455;\n",
              "      fill: #D2E3FC;\n",
              "    }\n",
              "\n",
              "    [theme=dark] .colab-df-convert:hover {\n",
              "      background-color: #434B5C;\n",
              "      box-shadow: 0px 1px 3px 1px rgba(0, 0, 0, 0.15);\n",
              "      filter: drop-shadow(0px 1px 2px rgba(0, 0, 0, 0.3));\n",
              "      fill: #FFFFFF;\n",
              "    }\n",
              "  </style>\n",
              "\n",
              "      <script>\n",
              "        const buttonEl =\n",
              "          document.querySelector('#df-78f8c823-aee7-4e05-ad86-b7790e7d7978 button.colab-df-convert');\n",
              "        buttonEl.style.display =\n",
              "          google.colab.kernel.accessAllowed ? 'block' : 'none';\n",
              "\n",
              "        async function convertToInteractive(key) {\n",
              "          const element = document.querySelector('#df-78f8c823-aee7-4e05-ad86-b7790e7d7978');\n",
              "          const dataTable =\n",
              "            await google.colab.kernel.invokeFunction('convertToInteractive',\n",
              "                                                     [key], {});\n",
              "          if (!dataTable) return;\n",
              "\n",
              "          const docLinkHtml = 'Like what you see? Visit the ' +\n",
              "            '<a target=\"_blank\" href=https://colab.research.google.com/notebooks/data_table.ipynb>data table notebook</a>'\n",
              "            + ' to learn more about interactive tables.';\n",
              "          element.innerHTML = '';\n",
              "          dataTable['output_type'] = 'display_data';\n",
              "          await google.colab.output.renderOutput(dataTable, element);\n",
              "          const docLink = document.createElement('div');\n",
              "          docLink.innerHTML = docLinkHtml;\n",
              "          element.appendChild(docLink);\n",
              "        }\n",
              "      </script>\n",
              "    </div>\n",
              "  </div>\n",
              "  "
            ]
          },
          "metadata": {},
          "execution_count": 75
        }
      ]
    },
    {
      "cell_type": "code",
      "source": [
        "import matplotlib.pyplot as plt"
      ],
      "metadata": {
        "id": "NH5xhzo3aJ0H"
      },
      "execution_count": 76,
      "outputs": []
    },
    {
      "cell_type": "code",
      "source": [
        "plt.figure(figsize=(8, 8))\n",
        "\n",
        "plt.plot(X, Y, 'o', c='y')\n",
        "\n",
        "plt.show()\n",
        "\n",
        "#Faster the car, less MPG it has \n",
        "\n",
        "#We will now discretize our numerical data/group it because there is no need to show this much data on our plot if a car with a horsepower of 95 will not be different than one of 100\n",
        "\n",
        "#Also, as a heads up for the future: when you see linear relationships in your plotted data, you want to make linear models\n",
        "#When you see curvy graphs: use something else"
      ],
      "metadata": {
        "colab": {
          "base_uri": "https://localhost:8080/",
          "height": 483
        },
        "id": "WyOjzSOuaME8",
        "outputId": "25208987-c0e8-4921-8ffa-b500e1ecf69b"
      },
      "execution_count": 77,
      "outputs": [
        {
          "output_type": "display_data",
          "data": {
            "text/plain": [
              "<Figure size 576x576 with 1 Axes>"
            ],
            "image/png": "[encoded data removed]"
          },
          "metadata": {
            "needs_background": "light"
          }
        }
      ]
    },
    {
      "cell_type": "code",
      "source": [
        "from sklearn.model_selection import train_test_split\n",
        "from sklearn.linear_model import LinearRegression"
      ],
      "metadata": {
        "id": "b-8Pdrcka1Qm"
      },
      "execution_count": 78,
      "outputs": []
    },
    {
      "cell_type": "code",
      "source": [
        "x_train, x_test, y_train, y_test = train_test_split(X, Y, test_size=0.2)\n",
        "#fit a simple linear model on the original continuous data"
      ],
      "metadata": {
        "id": "8O1s9cwfa8Hk"
      },
      "execution_count": 79,
      "outputs": []
    },
    {
      "cell_type": "code",
      "source": [
        "#instantiate the LinearRegression estimator object, call fit on training data, and use model for prediction\n",
        "reg = LinearRegression().fit(x_train, y_train)"
      ],
      "metadata": {
        "id": "IaSdqaRbbAIB"
      },
      "execution_count": 80,
      "outputs": []
    },
    {
      "cell_type": "code",
      "source": [
        "y_pred = reg.predict(x_test)\n",
        "\n",
        "y_pred\n",
        "\n",
        "#from test data we have of horsepower, get MPG"
      ],
      "metadata": {
        "colab": {
          "base_uri": "https://localhost:8080/"
        },
        "id": "uPPdSPChcSMB",
        "outputId": "0916ba57-ec4b-4b65-adc4-3b2bd83814d4"
      },
      "execution_count": 81,
      "outputs": [
        {
          "output_type": "execute_result",
          "data": {
            "text/plain": [
              "array([18.06646127, 24.32032345, 29.01072008, 25.10205622, 29.47975974,\n",
              "       24.32032345, 16.50299573, 22.7568579 , 28.69802697, 26.1964821 ,\n",
              "       29.01072008, 27.44725453, 31.6686115 , 25.88378899, 10.24913356,\n",
              "        6.3404697 , 29.01072008, 25.10205622, 29.79245285, 10.24913356,\n",
              "       28.22898731, 25.88378899, 29.47975974, 22.7568579 , 26.66552176,\n",
              "       15.72126296, 23.53859068, 16.81568884, 25.10205622,  8.68566802,\n",
              "       14.15779742, 24.78936311, 21.19339236, 31.51226495, 25.41474933,\n",
              "       26.1964821 , 26.97821487, 16.50299573, 26.66552176, 28.85437352,\n",
              "       32.45034427, 27.75994764, 16.50299573, 23.53859068, 26.66552176,\n",
              "       25.88378899, 18.06646127, 28.07264075, 26.1964821 , 25.88378899,\n",
              "       28.22898731, 12.59433187, 25.88378899, 25.88378899, 26.1964821 ,\n",
              "       24.32032345, 26.1964821 , 27.44725453, 20.41165959, 24.32032345,\n",
              "       11.8125991 , 28.69802697, 26.66552176, 32.45034427, 25.57109588,\n",
              "       29.79245285, 25.88378899, 30.10514596, 17.2847285 , 29.79245285,\n",
              "       16.50299573, 16.50299573, 28.22898731,  3.99527139, 27.60360109,\n",
              "       21.19339236, 24.32032345, 24.78936311])"
            ]
          },
          "metadata": {},
          "execution_count": 81
        }
      ]
    },
    {
      "cell_type": "code",
      "source": [
        "from sklearn.metrics import r2_score\n",
        "\n",
        "print(\"r_2 score: \", r2_score(y_test, y_pred))\n",
        "#Decent"
      ],
      "metadata": {
        "colab": {
          "base_uri": "https://localhost:8080/"
        },
        "id": "oUVmULb-c40y",
        "outputId": "67714ce1-706e-4216-a257-cbc33441afb2"
      },
      "execution_count": 82,
      "outputs": [
        {
          "output_type": "stream",
          "name": "stdout",
          "text": [
            "r_2 score:  0.5345568398499687\n"
          ]
        }
      ]
    },
    {
      "cell_type": "code",
      "source": [
        "plt.figure(figsize=(8, 8))\n",
        "\n",
        "plt.plot(x_train, y_train, 'o', c='y')\n",
        "\n",
        "plt.plot(x_test, y_pred, linewidth=2, color='green',\n",
        "         linestyle='-', label='linear regression')\n",
        "\n",
        "plt.show()\n",
        "\n",
        "#Original data vs. fitted line --> line models underlying data pretty well\n",
        "#Model has pretty good predictive power knowing we only gave it 1 feature"
      ],
      "metadata": {
        "colab": {
          "base_uri": "https://localhost:8080/",
          "height": 483
        },
        "id": "5Ei8BWsudYGk",
        "outputId": "e0291028-5f99-4bd5-a494-a0322bba8c6c"
      },
      "execution_count": 83,
      "outputs": [
        {
          "output_type": "display_data",
          "data": {
            "text/plain": [
              "<Figure size 576x576 with 1 Axes>"
            ],
            "image/png": "[encoded data removed]"
          },
          "metadata": {
            "needs_background": "light"
          }
        }
      ]
    },
    {
      "cell_type": "code",
      "source": [
        "enc = KBinsDiscretizer(n_bins=20, encode='ordinal') #Now discretize our horsepower values into 20 separate bins\n",
        "\n",
        "x_binned = enc.fit_transform(x_train)\n",
        "\n",
        "#We are discretizing our data because we see how a car with a horsepower of 96 vs. 95 won't make a difference in the relationship with MPG\n",
        "#If we want to discretize our data, we have to discretize it before feeding it to the machine learning model too"
      ],
      "metadata": {
        "id": "PSvN1n_Md80G"
      },
      "execution_count": 84,
      "outputs": []
    },
    {
      "cell_type": "code",
      "source": [
        "x_binned[:10]"
      ],
      "metadata": {
        "colab": {
          "base_uri": "https://localhost:8080/"
        },
        "id": "06UiF-wPekq-",
        "outputId": "34e2567a-5e2b-4ba4-af00-73f845804b4c"
      },
      "execution_count": 85,
      "outputs": [
        {
          "output_type": "execute_result",
          "data": {
            "text/plain": [
              "array([[ 0.],\n",
              "       [ 6.],\n",
              "       [ 0.],\n",
              "       [12.],\n",
              "       [19.],\n",
              "       [12.],\n",
              "       [16.],\n",
              "       [ 6.],\n",
              "       [ 5.],\n",
              "       [ 3.]])"
            ]
          },
          "metadata": {},
          "execution_count": 85
        }
      ]
    },
    {
      "cell_type": "code",
      "source": [
        "x_test_binned = enc.transform(x_test)"
      ],
      "metadata": {
        "id": "Dn5c6sh-enRl"
      },
      "execution_count": 86,
      "outputs": []
    },
    {
      "cell_type": "code",
      "source": [
        "reg = LinearRegression().fit(x_binned, y_train)"
      ],
      "metadata": {
        "id": "5n_51TYLeqJr"
      },
      "execution_count": 87,
      "outputs": []
    },
    {
      "cell_type": "code",
      "source": [
        "_pred = reg.predict(x_test_binned)\n",
        "\n",
        "y_pred"
      ],
      "metadata": {
        "colab": {
          "base_uri": "https://localhost:8080/"
        },
        "id": "pUa1Q0gaeqSM",
        "outputId": "c47c7212-f1e9-4388-fcd6-fac9a8b3fb9f"
      },
      "execution_count": 88,
      "outputs": [
        {
          "output_type": "execute_result",
          "data": {
            "text/plain": [
              "array([18.06646127, 24.32032345, 29.01072008, 25.10205622, 29.47975974,\n",
              "       24.32032345, 16.50299573, 22.7568579 , 28.69802697, 26.1964821 ,\n",
              "       29.01072008, 27.44725453, 31.6686115 , 25.88378899, 10.24913356,\n",
              "        6.3404697 , 29.01072008, 25.10205622, 29.79245285, 10.24913356,\n",
              "       28.22898731, 25.88378899, 29.47975974, 22.7568579 , 26.66552176,\n",
              "       15.72126296, 23.53859068, 16.81568884, 25.10205622,  8.68566802,\n",
              "       14.15779742, 24.78936311, 21.19339236, 31.51226495, 25.41474933,\n",
              "       26.1964821 , 26.97821487, 16.50299573, 26.66552176, 28.85437352,\n",
              "       32.45034427, 27.75994764, 16.50299573, 23.53859068, 26.66552176,\n",
              "       25.88378899, 18.06646127, 28.07264075, 26.1964821 , 25.88378899,\n",
              "       28.22898731, 12.59433187, 25.88378899, 25.88378899, 26.1964821 ,\n",
              "       24.32032345, 26.1964821 , 27.44725453, 20.41165959, 24.32032345,\n",
              "       11.8125991 , 28.69802697, 26.66552176, 32.45034427, 25.57109588,\n",
              "       29.79245285, 25.88378899, 30.10514596, 17.2847285 , 29.79245285,\n",
              "       16.50299573, 16.50299573, 28.22898731,  3.99527139, 27.60360109,\n",
              "       21.19339236, 24.32032345, 24.78936311])"
            ]
          },
          "metadata": {},
          "execution_count": 88
        }
      ]
    },
    {
      "cell_type": "code",
      "source": [
        "r2_score(y_test, y_pred)\n",
        "#Supposed to be better than the score we had before discretizing data, but perhaps times have changed"
      ],
      "metadata": {
        "colab": {
          "base_uri": "https://localhost:8080/"
        },
        "id": "M1qcxrRueqaw",
        "outputId": "28f72144-978b-4414-bc90-c714b47cb641"
      },
      "execution_count": 89,
      "outputs": [
        {
          "output_type": "execute_result",
          "data": {
            "text/plain": [
              "0.5345568398499687"
            ]
          },
          "metadata": {},
          "execution_count": 89
        }
      ]
    },
    {
      "cell_type": "code",
      "source": [
        "plt.figure(figsize=(8, 8))\n",
        "\n",
        "plt.scatter(x_train, y_train, c='y')\n",
        "plt.scatter(x_test, y_pred, color='k')\n",
        "\n",
        "plt.vlines(enc.bin_edges_[0], *plt.gca().get_ylim(), linewidth=1, alpha=.2)\n",
        "\n",
        "plt.show()"
      ],
      "metadata": {
        "colab": {
          "base_uri": "https://localhost:8080/",
          "height": 483
        },
        "id": "MyvL33pZe7O7",
        "outputId": "3dce23f9-c95a-406b-acd6-b046cebdb9da"
      },
      "execution_count": 90,
      "outputs": [
        {
          "output_type": "display_data",
          "data": {
            "text/plain": [
              "<Figure size 576x576 with 1 Axes>"
            ],
            "image/png": "[encoded data removed]"
          },
          "metadata": {
            "needs_background": "light"
          }
        }
      ]
    }
  ]
}